{
    "cells": [
        {
            "cell_type": "markdown",
            "metadata": {},
            "source": [
                "# 定时任务原理与实现\n"
            ]
        },
        {
            "cell_type": "markdown",
            "metadata": {},
            "source": [
                "## 1. 定时任务的定义与重要性\n",
                "定时任务是指按照预设的时间间隔或特定时间点自动执行的计算机任务。在现代软件开发和系统管理中，定时任务扮演着重要角色，用于处理周期性工作，如数据备份、系统监控、定期报告生成等。"
            ]
        },
        {
            "cell_type": "markdown",
            "metadata": {},
            "source": [
                "## 2. Python 中定时任务的实现方式 - 使用 `schedule` 模块\n",
                "`schedule` 是一个轻量级的 Python 库，用于创建和管理定时任务。它提供了简单易用的 API，适合中小型项目中的定时任务需求。"
            ]
        },
        {
            "cell_type": "code",
            "execution_count": null,
            "metadata": {},
            "outputs": [],
            "source": [
                "import schedule\n",
                "import time\n",
                "import threading\n",
                "\n",
                "# 定义一个示例任务函数\n",
                "def process_pending_interviews():\n",
                "    print(\"正在处理积压的面试请求...\")\n",
                "\n",
                "# 定时任务调度器\n",
                "def run_scheduler():\n",
                "    schedule.every(5).minutes.do(process_pending_interviews)\n",
                "    \n",
                "    while True:\n",
                "        schedule.run_pending()\n",
                "        time.sleep(1)"
            ]
        },
        {
            "cell_type": "markdown",
            "metadata": {},
            "source": [
                "### 代码解释：\n",
                "- 使用 `schedule` 模块定义了一个每 5 分钟执行一次的定时任务。\n",
                "- `schedule.run_pending()` 会检查是否有任务需要执行，并调用对应的函数。\n",
                "- `time.sleep(1)` 用于减少 CPU 的占用率，避免调度器过于频繁地检查任务。"
            ]
        },
        {
            "cell_type": "markdown",
            "metadata": {},
            "source": [
                "### 2.1 主函数逻辑（使用 `schedule` 模块）"
            ]
        },
        {
            "cell_type": "code",
            "execution_count": null,
            "metadata": {},
            "outputs": [],
            "source": [
                "if __name__ == \"__main__\":\n",
                "    # 立即运行一次任务\n",
                "    process_pending_interviews()\n",
                "    \n",
                "    # 在后台线程中运行定时任务\n",
                "    scheduler_thread = threading.Thread(target=run_scheduler)\n",
                "    scheduler_thread.daemon = True\n",
                "    scheduler_thread.start()\n",
                "    \n",
                "    print(\"面试问题生成定时任务已启动，每5分钟执行一次\")\n",
                "    \n",
                "    try:\n",
                "        # 保持主线程运行\n",
                "        while True:\n",
                "            time.sleep(60)\n",
                "    except KeyboardInterrupt:\n",
                "        print(\"程序已停止\")"
            ]
        },
        {
            "cell_type": "markdown",
            "metadata": {},
            "source": [
                "### 代码解释：\n",
                "- 程序启动时，立即调用一次任务函数 `process_pending_interviews`。\n",
                "- 使用守护线程运行定时任务调度器，避免阻塞主线程。\n",
                "- 主线程通过 `time.sleep(60)` 保持运行状态，每分钟暂停一次。\n",
                "- 捕获 `KeyboardInterrupt` 异常，允许用户通过 `Ctrl+C` 停止程序。"
            ]
        },
        {
            "cell_type": "markdown",
            "metadata": {},
            "source": [
                "### 2.2 `schedule` 模块的优点与局限性\n",
                "#### 优点：\n",
                "- 简单易用，API 直观，适合快速开发。\n",
                "- 跨平台支持，可在 Windows、Linux 和 macOS 上运行。\n",
                "- 支持多种时间单位（秒、分钟、小时、天等）。\n",
                "#### 局限性：\n",
                "- 需要程序持续运行，如果程序终止，定时任务也会停止。\n",
                "- 不适合高并发或复杂任务调度场景。\n",
                "- 资源占用相对较高，因为需要常驻内存。"
            ]
        },
        {
            "cell_type": "markdown",
            "metadata": {},
            "source": [
                "## 3. 系统级定时任务 - 使用 `cron`（Linux/macOS）"
            ]
        },
        {
            "cell_type": "markdown",
            "metadata": {},
            "source": [
                "### 3.1 什么是 `cron`？\n",
                "`cron` 是一个基于时间的调度器，用于在 Linux 和 Unix 系统中定期执行任务。它允许用户定义任务的执行时间表，例如每分钟、每小时、每天等。相比 Python 库，`cron` 是系统级工具，更加稳定和高效。"
            ]
        },
        {
            "cell_type": "markdown",
            "metadata": {},
            "source": [
                "### 3.2 `cron` 的时间表格式\n",
                "Cron 表达式由 5 或 6 个字段组成，分别表示：\n",
                "- 分钟（0-59）\n",
                "- 小时（0-23）\n",
                "- 日期（1-31）\n",
                "- 月份（1-12）\n",
                "- 星期几（0-7，其中 0 和 7 都表示星期天）\n",
                "- 可选的年份字段（非标准字段）\n",
                "\n",
                "例如：`*/5 * * * *` 表示每 5 分钟执行一次。"
            ]
        },
        {
            "cell_type": "markdown",
            "metadata": {},
            "source": [
                "### 3.3 使用 `cron` 的步骤"
            ]
        },
        {
            "cell_type": "markdown",
            "metadata": {},
            "source": [
                "1. **编辑 `crontab` 文件**：在终端中运行 `crontab -e` 命令，编辑当前用户的 `crontab` 文件。\n",
                "2. **添加任务**：在文件中添加任务的时间表和要执行的命令。例如：\n",
                "   ```bash\n",
                "   */5 * * * * /usr/bin/python3 /path/to/your_script.py\n",
                "   ```\n",
                "   这表示每 5 分钟运行一次 `/path/to/your_script.py` 脚本。\n",
                "3. **保存并退出**：保存文件后，`cron` 会自动加载新的任务表。\n",
                "4. **查看任务列表**：运行 `crontab -l` 查看当前用户的任务列表。"
            ]
        },
        {
            "cell_type": "markdown",
            "metadata": {},
            "source": [
                "### 3.4 示例：每 5 分钟运行一个 Python 脚本\n",
                "假设你有一个 Python 脚本 `process_interviews.py`，内容如下：\n",
                "```python\n",
                "#!/usr/bin/env python3\n",
                "import datetime\n",
                "\n",
                "def process_pending_interviews():\n",
                "    print(f\"正在处理积压的面试请求... {datetime.datetime.now()}\")\n",
                "\n",
                "if __name__ == \"__main__\":\n",
                "    process_pending_interviews()\n",
                "```\n",
                "\n",
                "将该脚本保存到 `/path/to/process_interviews.py`，然后在 `crontab` 文件中添加以下任务：\n",
                "```bash\n",
                "*/5 * * * * cd /path/to/project && /usr/bin/python3 /path/to/process_interviews.py >> /path/to/logfile.log 2>&1\n",
                "```\n",
                "这样，`cron` 会每 5 分钟运行一次该脚本，并将输出和错误信息记录到指定日志文件中。"
            ]
        },
        {
            "cell_type": "markdown",
            "metadata": {},
            "source": [
                "### 3.5 `cron` 的优点和缺点\n",
                "#### 优点：\n",
                "- **系统级支持**：`cron` 是大多数 Unix 和 Linux 系统的标准工具，无需额外安装。\n",
                "- **高效稳定**：`cron` 由系统守护进程管理，运行稳定，资源占用低。\n",
                "- **灵活的时间表**：支持复杂的任务调度时间表，例如每周一的上午 9 点执行任务。\n",
                "- **自动恢复**：系统重启后，`cron` 任务会自动生效，无需手动干预。\n",
                "#### 缺点：\n",
                "- **仅适用于 Unix/Linux 系统**：Windows 系统需要使用其他工具（如 Task Scheduler）。\n",
                "- **需要系统权限**：用户需要有权限编辑 `crontab` 文件。\n",
                "- **调试困难**：`cron` 任务的输出和错误日志需要手动配置，调试时可能不太方便。"
            ]
        },
        {
            "cell_type": "markdown",
            "metadata": {},
            "source": [
                "### 3.6 `cron` 使用技巧与注意事项\n",
                "1. **环境变量**：`cron` 运行环境不包含用户环境变量，可能导致脚本找不到依赖。解决方法是在脚本中显式设置环境变量或在 `crontab` 中指定：\n",
                "   ```bash\n",
                "   */5 * * * * cd /path/to/project && source /path/to/.env && /usr/bin/python3 script.py\n",
                "   ```\n",
                "2. **日志记录**：始终记录任务输出，便于调试和监控：\n",
                "   ```bash\n",
                "   */5 * * * * /path/to/script.py >> /path/to/logfile.log 2>&1\n",
                "   ```\n",
                "3. **路径问题**：使用绝对路径，避免因工作目录不同导致的脚本执行失败。\n",
                "4. **权限问题**：确保脚本文件具有可执行权限（`chmod +x script.py`）。\n",
                "5. **任务重叠处理**：如果任务执行时间可能超过调度间隔，使用锁机制防止任务重叠：\n",
                "   ```python\n",
                "   import fcntl\n",
                "   import sys\n",
                "   def acquire_lock():\n",
                "       try:\n",
                "           lock_file = open('/tmp/task.lock', 'w')\n",
                "           fcntl.lockf(lock_file, fcntl.LOCK_EX | fcntl.LOCK_NB)\n",
                "           return lock_file\n",
                "       except IOError:\n",
                "           print(\"Another instance is already running\")\n",
                "           sys.exit(1)\n",
                "   if __name__ == \"__main__\":\n",
                "       lock = acquire_lock()\n",
                "       # 执行任务逻辑\n",
                "   ```\n",
                "6. **时区问题**：`cron` 默认使用系统时区，可在 `crontab` 文件顶部设置 `CRON_TZ` 指定时区：\n",
                "   ```bash\n",
                "   CRON_TZ=Asia/Shanghai\n",
                "   */5 * * * * /path/to/script.py\n",
                "   ```"
            ]
        },
        {
            "cell_type": "markdown",
            "metadata": {},
            "source": [
                "## 4. Windows 系统中的定时任务 - Task Scheduler\n",
                "Windows 系统提供了任务计划程序（Task Scheduler），可以通过图形界面或命令行工具 `schtasks` 创建定时任务。\n",
                "### 4.1 使用步骤：\n",
                "1. 打开任务计划程序（运行 `taskschd.msc`）。\n",
                "2. 创建新任务，选择触发器（时间表）和操作（运行程序）。\n",
                "3. 设置时间表，例如每 5 分钟执行一次（需要自定义触发器）。\n",
                "### 4.2 使用命令行创建任务：\n",
                "```bash\n",
                "schtasks /create /tn \"MyTask\" /tr \"python.exe C:\\path\\to\\script.py\" /sc minute /mo 5\n",
                "```\n",
                "此命令创建一个每 5 分钟执行一次的定时任务。"
            ]
        },
        {
            "cell_type": "markdown",
            "metadata": {},
            "source": [
                "## 5. 定时任务的运行效果与监控\n",
                "运行定时任务后，程序或系统会按照预设时间表执行任务。建议通过日志文件或监控工具（如 Prometheus、Nagios）监控任务执行情况，确保任务按预期运行。"
            ]
        },
        {
            "cell_type": "markdown",
            "metadata": {},
            "source": [
                "## 6. 注意事项与最佳实践\n",
                "- **选择合适的工具**：对于简单任务，`schedule` 模块足够；对于生产环境，推荐使用系统级工具如 `cron` 或 Task Scheduler。\n",
                "- **错误处理**：在任务脚本中添加完善的错误处理和日志记录，避免任务失败时无声无息。\n",
                "- **资源管理**：定时任务应避免占用过多系统资源，必要时限制任务执行时间。\n",
                "- **安装 `schedule` 模块**：可以通过以下命令安装：\n",
                "  ```bash\n",
                "  pip install schedule\n",
                "  ```\n",
                "- **复杂任务调度**：对于高并发或复杂任务，考虑使用专业工具如 Apache Airflow、Celery 等。"
            ]
        },
        {
            "cell_type": "markdown",
            "metadata": {},
            "source": [
                "## 7. 总结\n",
                "定时任务是自动化运维和开发的重要组成部分。通过 Python 的 `schedule` 模块、Linux 的 `cron` 或 Windows 的 Task Scheduler，可以轻松实现任务的定时执行。选择合适的工具并遵循最佳实践，能有效提高系统的自动化水平和稳定性。"
            ]
        }
    ],
    "metadata": {
        "kernelspec": {
            "display_name": "Python 3",
            "language": "python",
            "name": "python3"
        },
        "language_info": {
            "codemirror_mode": {
                "name": "ipython",
                "version": 3
            },
            "file_extension": ".py",
            "mimetype": "text/x-python",
            "name": "python",
            "nbconvert_exporter": "python",
            "pygments_lexer": "ipython3",
            "version": "3.11.11"
        }
    },
    "nbformat": 4,
    "nbformat_minor": 2
}
