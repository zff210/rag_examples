{
    "cells":
    [
        {
            "cell_type": "markdown",
            "metadata":
            {},
            "source":
            [
                "# OpenAI Whisper 语音识别示例"
            ]
        },
        {
            "cell_type": "markdown",
            "metadata":
            {},
            "source":
            [
                "## 1. 安装Whisper"
            ]
        },
        {
            "cell_type": "code",
            "execution_count": null,
            "metadata":
            {},
            "outputs":
            [],
            "source":
            [
                "# 在单元格中运行安装命令\n",
                "!pip install -U openai-whisper\n",
                "# 如果需要GPU加速（推荐NVIDIA显卡）\n",
                "!pip install git+https://github.com/openai/whisper.git"
            ]
        },
        {
            "cell_type": "markdown",
            "metadata":
            {},
            "source":
            [
                "## 2. 基本使用示例"
            ]
        },
        {
            "cell_type": "code",
            "execution_count": null,
            "metadata":
            {},
            "outputs":
            [],
            "source":
            [
                "import whisper\n",
                "\n",
                "# 加载模型（首次运行会自动下载）\n",
                "# 可选模型：tiny, base, small, medium, large\n",
                "model = whisper.load_model(\"base\")\n",
                "\n",
                "# 转录音频文件\n",
                "result = model.transcribe(\"audio.mp3\")\n",
                "print(result[\"text\"])"
            ]
        },
        {
            "cell_type": "markdown",
            "metadata":
            {},
            "source":
            [
                "## 3. 高级选项示例"
            ]
        },
        {
            "cell_type": "code",
            "execution_count": null,
            "metadata":
            {},
            "outputs":
            [],
            "source":
            [
                "import whisper\n",
                "\n",
                "model = whisper.load_model(\"medium\")\n",
                "\n",
                "# 带参数配置的转录\n",
                "result = model.transcribe(\n",
                "    \"audio.wav\",\n",
                "    language=\"zh\",  # 指定语言（中文）\n",
                "    fp16=False,     # 如果使用CPU需要设为False\n",
                "    temperature=0.2  # 控制随机性（0-1）\n",
                ")\n",
                "\n",
                "# 输出结果\n",
                "print(\"文本:\", result[\"text\"])\n",
                "print(\"分段信息:\")\n",
                "for segment in result[\"segments\"]:\n",
                "    print(f\"[{segment['start']:.1f}s -> {segment['end']:.1f}s] {segment['text']}\")"
            ]
        },
        {
            "cell_type": "markdown",
            "metadata":
            {},
            "source":
            [
                "## 4. 实时麦克风输入（需要pyaudio）"
            ]
        },
        {
            "cell_type": "code",
            "execution_count": null,
            "metadata":
            {},
            "outputs":
            [],
            "source":
            [
                "import whisper\n",
                "import pyaudio\n",
                "import wave\n",
                "import numpy as np\n",
                "\n",
                "# 录音参数\n",
                "CHUNK = 1024\n",
                "FORMAT = pyaudio.paInt16\n",
                "CHANNELS = 1\n",
                "RATE = 16000\n",
                "RECORD_SECONDS = 5\n",
                "\n",
                "p = pyaudio.PyAudio()\n",
                "\n",
                "# 开始录音\n",
                "stream = p.open(format=FORMAT,\n",
                "                channels=CHANNELS,\n",
                "                rate=RATE,\n",
                "                input=True,\n",
                "                frames_per_buffer=CHUNK)\n",
                "\n",
                "print(\"开始录音...\")\n",
                "frames = []\n",
                "for _ in range(0, int(RATE / CHUNK * RECORD_SECONDS)):\n",
                "    data = stream.read(CHUNK)\n",
                "    frames.append(np.frombuffer(data, dtype=np.int16))\n",
                "\n",
                "# 停止录音\n",
                "stream.stop_stream()\n",
                "stream.close()\n",
                "p.terminate()\n",
                "\n",
                "# 转换为Whisper需要的格式\n",
                "audio = np.concatenate(frames).astype(np.float32) / 32768.0\n",
                "\n",
                "# 加载模型并转录\n",
                "model = whisper.load_model(\"base\")\n",
                "result = model.transcribe(audio, language=\"zh\")\n",
                "print(result[\"text\"])"
            ]
        },
        {
            "cell_type": "markdown",
            "metadata":
            {},
            "source":
            [
                "## 5. 翻译为英语（仅限medium/large模型）"
            ]
        },
        {
            "cell_type": "code",
            "execution_count": null,
            "metadata":
            {},
            "outputs":
            [],
            "source":
            [
                "model = whisper.load_model(\"large\")\n",
                "result = model.transcribe(\"audio.wav\", task=\"translate\")  # 翻译为英文\n",
                "print(result[\"text\"])"
            ]
        },
        {
            "cell_type": "markdown",
            "metadata":
            {},
            "source":
            [
                "## 注意事项\n",
                "1. 模型越大精度越高，但速度越慢（base适合英语，中文建议至少small）\n",
                "2. 首次运行会自动下载模型（保存在 ~/.cache/whisper）\n",
                "3. 处理长音频可能需要大量内存\n",
                "\n",
                "如需处理视频文件，可以先用ffmpeg提取音频：\n",
                "```bash\n",
                "ffmpeg -i video.mp4 -vn -acodec copy audio.m4a\n",
                "```"
            ]
        }
    ],
    "metadata":
    {
        "kernelspec":
        {
            "display_name": "Python 3",
            "language": "python",
            "name": "python3"
        },
        "language_info":
        {
            "codemirror_mode":
            {
                "name": "ipython",
                "version": 3
            },
            "file_extension": ".py",
            "mimetype": "text/x-python",
            "name": "python",
            "nbconvert_exporter": "python",
            "pygments_lexer": "ipython3",
            "version": "3.8.5"
        }
    },
    "nbformat": 4,
    "nbformat_minor": 4
}